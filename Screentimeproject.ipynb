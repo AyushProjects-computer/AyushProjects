{
 "cells": [
  {
   "cell_type": "code",
   "execution_count": 3,
   "id": "e761971e",
   "metadata": {},
   "outputs": [
    {
     "name": "stdout",
     "output_type": "stream",
     "text": [
      "Index(['user_id', 'age', 'gender', 'daily_screen_time_hours',\n",
      "       'phone_usage_hours', 'laptop_usage_hours', 'tablet_usage_hours',\n",
      "       'tv_usage_hours', 'social_media_hours', 'work_related_hours',\n",
      "       'entertainment_hours', 'gaming_hours', 'sleep_duration_hours',\n",
      "       'sleep_quality', 'mood_rating/10', 'stress_level/10',\n",
      "       'physical_activity_hours_per_week', 'location_type',\n",
      "       'mental_health_score/100', 'uses_wellness_apps', 'eats_healthy',\n",
      "       'caffeine_intake_mg_per_day'],\n",
      "      dtype='object')\n"
     ]
    }
   ],
   "source": [
    "import numpy as np\n",
    "import pandas as pd\n",
    "import matplotlib.pyplot as plt\n",
    "file_path = r\"D:\\digital_diet_mental_health.csv\"\n",
    "data = pd.read_csv(file_path)\n",
    "# print(data.head())\n",
    "print(data.columns)\n",
    "# print(data.info())\n",
    "# print(data.isnull().sum())\n",
    "# avgscreen=data['daily_screen_time_hours'].mean()\n",
    "# print(avgscreen,\"hours\")\n",
    "# maxscreen=data['daily_screen_time_hours'].max()\n",
    "# print(maxscreen,\"hours\")\n",
    "# minscreen=data['daily_screen_time_hours'].min()\n",
    "# print(minscreen,\"hours\")\n",
    "# avglaptop=data['laptop_usage_hours'].mean()\n",
    "# print(avglaptop,\"hours\")\n",
    "# average=data['age'].mean()\n",
    "# print(average,\"yrs\")\n",
    "# avg_screen_by_gender = data.groupby('gender')['daily_screen_time_hours'].mean()\n",
    "# print(avg_screen_by_gender)\n",
    "# screentimevstress=data['daily_screen_time_hours'].corr(data['stress_level/10'])\n",
    "# print(screentimevstress)\n",
    "# caffeineconsum=data.groupby('gender')['caffeine_intake_mg_per_day'].mean()\n",
    "# print(caffeineconsum)\n",
    "# screenvscaffeine=data['daily_screen_time_hours'].corr(data['caffeine_intake_mg_per_day'])\n",
    "# print(screenvscaffeine)\n",
    "\n",
    "# plt.hist(data['daily_screen_time_hours'], bins=10, color='skyblue', edgecolor='black')\n",
    "# plt.title('Distribution of Daily Screen Time')\n",
    "# plt.xlabel('Screen Time (hours)')\n",
    "# plt.ylabel('Number of People')\n",
    "# plt.show()"
   ]
  }
 ],
 "metadata": {
  "kernelspec": {
   "display_name": "Python 3",
   "language": "python",
   "name": "python3"
  },
  "language_info": {
   "codemirror_mode": {
    "name": "ipython",
    "version": 3
   },
   "file_extension": ".py",
   "mimetype": "text/x-python",
   "name": "python",
   "nbconvert_exporter": "python",
   "pygments_lexer": "ipython3",
   "version": "3.11.8"
  }
 },
 "nbformat": 4,
 "nbformat_minor": 5
}
